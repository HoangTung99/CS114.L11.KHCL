{
  "nbformat": 4,
  "nbformat_minor": 0,
  "metadata": {
    "colab": {
      "name": "Face Detection.ipynb",
      "provenance": [],
      "collapsed_sections": [],
      "include_colab_link": true
    },
    "kernelspec": {
      "name": "python3",
      "display_name": "Python 3"
    }
  },
  "cells": [
    {
      "cell_type": "markdown",
      "metadata": {
        "id": "view-in-github",
        "colab_type": "text"
      },
      "source": [
        "<a href=\"https://colab.research.google.com/github/HoangTung99/CS114.L11.KHCL/blob/master/Face_Detection.ipynb\" target=\"_parent\"><img src=\"https://colab.research.google.com/assets/colab-badge.svg\" alt=\"Open In Colab\"/></a>"
      ]
    },
    {
      "cell_type": "code",
      "metadata": {
        "id": "Gf1y_IAZnTM5"
      },
      "source": [
        "from PIL import Image\n",
        "import cv2\n",
        "from google.colab.patches import cv2_imshow"
      ],
      "execution_count": null,
      "outputs": []
    },
    {
      "cell_type": "code",
      "metadata": {
        "id": "8kJtNXnF-hIW",
        "colab": {
          "base_uri": "https://localhost:8080/"
        },
        "outputId": "e4d6a757-b0ab-44bc-d80c-ebd4f005eda7"
      },
      "source": [
        "# Download model to detect face\n",
        "!curl -o haarcascade_frontalface_default.xml https://raw.githubusercontent.com/opencv/opencv/master/data/haarcascades/haarcascade_frontalface_default.xml"
      ],
      "execution_count": null,
      "outputs": [
        {
          "output_type": "stream",
          "text": [
            "  % Total    % Received % Xferd  Average Speed   Time    Time     Time  Current\n",
            "                                 Dload  Upload   Total   Spent    Left  Speed\n",
            "100  908k  100  908k    0     0  2488k      0 --:--:-- --:--:-- --:--:-- 2488k\n"
          ],
          "name": "stdout"
        }
      ]
    },
    {
      "cell_type": "code",
      "metadata": {
        "colab": {
          "base_uri": "https://localhost:8080/"
        },
        "id": "rUhbji6h9tiT",
        "outputId": "20e80d8d-c6db-434f-c2dc-480cfe8bc723"
      },
      "source": [
        "# Download image data that you want to detect\r\n",
        "!curl -o test https://www.insidehighered.com/sites/default/server_files/styles/large-copy/public/media/student%20shaming.jpg?itok=oH5df-pC"
      ],
      "execution_count": null,
      "outputs": [
        {
          "output_type": "stream",
          "text": [
            "  % Total    % Received % Xferd  Average Speed   Time    Time     Time  Current\n",
            "                                 Dload  Upload   Total   Spent    Left  Speed\n",
            "100 75931  100 75931    0     0   805k      0 --:--:-- --:--:-- --:--:--  805k\n"
          ],
          "name": "stdout"
        }
      ]
    },
    {
      "cell_type": "code",
      "metadata": {
        "id": "fiNEGUHF4Bln",
        "colab": {
          "base_uri": "https://localhost:8080/",
          "height": 593
        },
        "outputId": "31e11122-899f-40e4-8d46-977fb0be8a88"
      },
      "source": [
        "# load the photograph\r\n",
        "pixels = cv2.imread('test')\r\n",
        "\r\n",
        "# convert photo to gray scale\r\n",
        "pixels = cv2.cvtColor(pixels, cv2.COLOR_BGR2GRAY)\r\n",
        "\r\n",
        "# load the pre-trained model\r\n",
        "classifier = cv2.CascadeClassifier('haarcascade_frontalface_default.xml')\r\n",
        "\r\n",
        "# perform face detection\r\n",
        "bboxes = classifier.detectMultiScale(pixels)\r\n",
        "\r\n",
        "crop_image_list = []\r\n",
        "\r\n",
        "# print bounding box for each detected face\r\n",
        "for box in bboxes:\r\n",
        "  x,  y, height, width = box\r\n",
        "\r\n",
        "  # draw rectangle over the pixels by 2 anchors: top-left && bottom-right\r\n",
        "  cv2.rectangle(pixels, (x, y), (x + width, y + height), (255, 255, 255), 1)\r\n",
        "  \r\n",
        "  # crop image\r\n",
        "  crop_image = pixels[y: y+height, x: x+width].copy()\r\n",
        "\r\n",
        "  # add crop_image to crop_image_list\r\n",
        "  crop_image_list.append(crop_image)\r\n",
        "\r\n",
        "# show the image\r\n",
        "# cv2_imshow(pixels)\r\n",
        "\r\n",
        "for crop_image in crop_image_list:\r\n",
        "  cv2_imshow(cv2.resize(crop_image, (48, 48), interpolation = cv2.INTER_AREA))\r\n",
        "  cv2.waitKey(0)"
      ],
      "execution_count": null,
      "outputs": [
        {
          "output_type": "display_data",
          "data": {
            "image/png": "[encoded data removed]",
            "text/plain": [
              "<PIL.Image.Image image mode=L size=48x48 at 0x7F70AA799208>"
            ]
          },
          "metadata": {
            "tags": []
          }
        },
        {
          "output_type": "display_data",
          "data": {
            "image/png": "[encoded data removed]",
            "text/plain": [
              "<PIL.Image.Image image mode=L size=48x48 at 0x7F70AA799198>"
            ]
          },
          "metadata": {
            "tags": []
          }
        },
        {
          "output_type": "display_data",
          "data": {
            "image/png": "[encoded data removed]",
            "text/plain": [
              "<PIL.Image.Image image mode=L size=48x48 at 0x7F70AA799208>"
            ]
          },
          "metadata": {
            "tags": []
          }
        },
        {
          "output_type": "display_data",
          "data": {
            "image/png": "[encoded data removed]",
            "text/plain": [
              "<PIL.Image.Image image mode=L size=48x48 at 0x7F70AA799198>"
            ]
          },
          "metadata": {
            "tags": []
          }
        },
        {
          "output_type": "display_data",
          "data": {
            "image/png": "[encoded data removed]",
            "text/plain": [
              "<PIL.Image.Image image mode=L size=48x48 at 0x7F70AA799208>"
            ]
          },
          "metadata": {
            "tags": []
          }
        },
        {
          "output_type": "display_data",
          "data": {
            "image/png": "[encoded data removed]",
            "text/plain": [
              "<PIL.Image.Image image mode=L size=48x48 at 0x7F70AA799198>"
            ]
          },
          "metadata": {
            "tags": []
          }
        },
        {
          "output_type": "display_data",
          "data": {
            "image/png": "[encoded data removed]",
            "text/plain": [
              "<PIL.Image.Image image mode=L size=48x48 at 0x7F70AA799208>"
            ]
          },
          "metadata": {
            "tags": []
          }
        },
        {
          "output_type": "display_data",
          "data": {
            "image/png": "[encoded data removed]",
            "text/plain": [
              "<PIL.Image.Image image mode=L size=48x48 at 0x7F70AA799198>"
            ]
          },
          "metadata": {
            "tags": []
          }
        },
        {
          "output_type": "display_data",
          "data": {
            "image/png": "[encoded data removed]",
            "text/plain": [
              "<PIL.Image.Image image mode=L size=48x48 at 0x7F70AA799208>"
            ]
          },
          "metadata": {
            "tags": []
          }
        },
        {
          "output_type": "display_data",
          "data": {
            "image/png": "[encoded data removed]",
            "text/plain": [
              "<PIL.Image.Image image mode=L size=48x48 at 0x7F70AA799198>"
            ]
          },
          "metadata": {
            "tags": []
          }
        },
        {
          "output_type": "display_data",
          "data": {
            "image/png": "[encoded data removed]",
            "text/plain": [
              "<PIL.Image.Image image mode=L size=48x48 at 0x7F70AA799208>"
            ]
          },
          "metadata": {
            "tags": []
          }
        },
        {
          "output_type": "display_data",
          "data": {
            "image/png": "[encoded data removed]",
            "text/plain": [
              "<PIL.Image.Image image mode=L size=48x48 at 0x7F70AA799198>"
            ]
          },
          "metadata": {
            "tags": []
          }
        }
      ]
    }
  ]
}