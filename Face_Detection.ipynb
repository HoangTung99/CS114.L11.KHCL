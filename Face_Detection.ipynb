{
  "nbformat": 4,
  "nbformat_minor": 0,
  "metadata": {
    "colab": {
      "name": "Face Detection.ipynb",
      "provenance": [],
      "collapsed_sections": [],
      "include_colab_link": true
    },
    "kernelspec": {
      "name": "python3",
      "display_name": "Python 3"
    }
  },
  "cells": [
    {
      "cell_type": "markdown",
      "metadata": {
        "id": "view-in-github",
        "colab_type": "text"
      },
      "source": [
        "<a href=\"https://colab.research.google.com/github/HoangTung99/CS114.L11.KHCL/blob/master/Face_Detection.ipynb\" target=\"_parent\"><img src=\"https://colab.research.google.com/assets/colab-badge.svg\" alt=\"Open In Colab\"/></a>"
      ]
    },
    {
      "cell_type": "code",
      "metadata": {
        "id": "Gf1y_IAZnTM5"
      },
      "source": [
        "from PIL import Image\n",
        "import cv2\n",
        "from google.colab.patches import cv2_imshow"
      ],
      "execution_count": 18,
      "outputs": []
    },
    {
      "cell_type": "code",
      "metadata": {
        "id": "8kJtNXnF-hIW",
        "colab": {
          "base_uri": "https://localhost:8080/"
        },
        "outputId": "957150fa-f95d-44d9-8fd1-0d807452ca21"
      },
      "source": [
        "# Download model to detect face\n",
        "!curl -o haarcascade_frontalface_default.xml https://raw.githubusercontent.com/opencv/opencv/master/data/haarcascades/haarcascade_frontalface_default.xml"
      ],
      "execution_count": 24,
      "outputs": [
        {
          "output_type": "stream",
          "text": [
            "  % Total    % Received % Xferd  Average Speed   Time    Time     Time  Current\n",
            "                                 Dload  Upload   Total   Spent    Left  Speed\n",
            "\r  0     0    0     0    0     0      0      0 --:--:-- --:--:-- --:--:--     0\r100  908k  100  908k    0     0  5311k      0 --:--:-- --:--:-- --:--:-- 5311k\n"
          ],
          "name": "stdout"
        }
      ]
    },
    {
      "cell_type": "code",
      "metadata": {
        "colab": {
          "base_uri": "https://localhost:8080/"
        },
        "id": "rUhbji6h9tiT",
        "outputId": "d55a32cd-ab83-46fa-d3f9-9edea52f4110"
      },
      "source": [
        "# Download image data that you want to detect\r\n",
        "!curl -o test https://blog.wiziq.com/wp-content/uploads/2013/05/Getting-them-excited.jpg"
      ],
      "execution_count": 25,
      "outputs": [
        {
          "output_type": "stream",
          "text": [
            "  % Total    % Received % Xferd  Average Speed   Time    Time     Time  Current\n",
            "                                 Dload  Upload   Total   Spent    Left  Speed\n",
            "100  153k  100  153k    0     0   619k      0 --:--:-- --:--:-- --:--:--  617k\n"
          ],
          "name": "stdout"
        }
      ]
    },
    {
      "cell_type": "code",
      "metadata": {
        "id": "fiNEGUHF4Bln",
        "colab": {
          "base_uri": "https://localhost:8080/",
          "height": 209
        },
        "outputId": "4e6474aa-80e8-4c12-e847-58f5788a2d54"
      },
      "source": [
        "# load the photograph\r\n",
        "pixels = cv2.imread('134665005_405081464250728_1056837724739859270_n.jpg')\r\n",
        "\r\n",
        "# convert photo to gray scale\r\n",
        "pixels = cv2.cvtColor(pixels, cv2.COLOR_BGR2GRAY)\r\n",
        "\r\n",
        "# load the pre-trained model\r\n",
        "classifier = cv2.CascadeClassifier('haarcascade_frontalface_default.xml')\r\n",
        "\r\n",
        "# perform face detection\r\n",
        "bboxes = classifier.detectMultiScale(pixels)\r\n",
        "\r\n",
        "crop_image_list = []\r\n",
        "\r\n",
        "# print bounding box for each detected face\r\n",
        "for box in bboxes:\r\n",
        "  x,  y, height, width = box\r\n",
        "\r\n",
        "  # draw rectangle over the pixels by 2 anchors: top-left && bottom-right\r\n",
        "  cv2.rectangle(pixels, (x, y), (x + width, y + height), (255, 255, 255), 1)\r\n",
        "  \r\n",
        "  # crop image\r\n",
        "  crop_image = pixels[y: y+height, x: x+width].copy()\r\n",
        "\r\n",
        "  # add crop_image to crop_image_list\r\n",
        "  crop_image_list.append(crop_image)\r\n",
        "\r\n",
        "# show the image\r\n",
        "# cv2_imshow(pixels)\r\n",
        "\r\n",
        "for crop_image in crop_image_list:\r\n",
        "  cv2_imshow(cv2.resize(crop_image, (48, 48), interpolation = cv2.INTER_AREA))\r\n",
        "  cv2.waitKey(0)"
      ],
      "execution_count": 27,
      "outputs": [
        {
          "output_type": "display_data",
          "data": {
            "image/png": "[encoded data removed]",
            "text/plain": [
              "<PIL.Image.Image image mode=L size=48x48 at 0x7F9BD2359C18>"
            ]
          },
          "metadata": {
            "tags": []
          }
        },
        {
          "output_type": "display_data",
          "data": {
            "image/png": "[encoded data removed]",
            "text/plain": [
              "<PIL.Image.Image image mode=L size=48x48 at 0x7F9BD2359B70>"
            ]
          },
          "metadata": {
            "tags": []
          }
        },
        {
          "output_type": "display_data",
          "data": {
            "image/png": "[encoded data removed]",
            "text/plain": [
              "<PIL.Image.Image image mode=L size=48x48 at 0x7F9BD2359C18>"
            ]
          },
          "metadata": {
            "tags": []
          }
        },
        {
          "output_type": "display_data",
          "data": {
            "image/png": "[encoded data removed]",
            "text/plain": [
              "<PIL.Image.Image image mode=L size=48x48 at 0x7F9BD2359B70>"
            ]
          },
          "metadata": {
            "tags": []
          }
        }
      ]
    }
  ]
}