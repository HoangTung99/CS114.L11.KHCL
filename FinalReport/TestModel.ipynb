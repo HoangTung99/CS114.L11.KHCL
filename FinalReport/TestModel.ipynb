{
  "nbformat": 4,
  "nbformat_minor": 0,
  "metadata": {
    "colab": {
      "name": "TestModel.ipynb",
      "provenance": [],
      "collapsed_sections": [],
      "authorship_tag": "ABX9TyP5XJOoxqjVYalD3CXjHGqJ",
      "include_colab_link": true
    },
    "kernelspec": {
      "display_name": "Python 3",
      "name": "python3"
    }
  },
  "cells": [
    {
      "cell_type": "markdown",
      "metadata": {
        "id": "view-in-github",
        "colab_type": "text"
      },
      "source": [
        "<a href=\"https://colab.research.google.com/github/HoangTung99/CS114.L11.KHCL/blob/master/TestModel.ipynb\" target=\"_parent\"><img src=\"https://colab.research.google.com/assets/colab-badge.svg\" alt=\"Open In Colab\"/></a>"
      ]
    },
    {
      "cell_type": "code",
      "metadata": {
        "colab": {
          "base_uri": "https://localhost:8080/"
        },
        "id": "Q4jJvNOdS6zr",
        "outputId": "73960630-26ee-41a4-ebee-2b3f15d87073"
      },
      "source": [
        "from google.colab import drive\n",
        "drive.mount('/content/drive')"
      ],
      "execution_count": null,
      "outputs": [
        {
          "output_type": "stream",
          "text": [
            "Drive already mounted at /content/drive; to attempt to forcibly remount, call drive.mount(\"/content/drive\", force_remount=True).\n"
          ],
          "name": "stdout"
        }
      ]
    },
    {
      "cell_type": "markdown",
      "metadata": {
        "id": "JAn7k9X2JSn0"
      },
      "source": [
        "**Test && Rate**"
      ]
    },
    {
      "cell_type": "code",
      "metadata": {
        "id": "l2PJJaHKWmFg"
      },
      "source": [
        "import tensorflow as tf\n",
        "import numpy as np\n",
        "import cv2\n",
        "import os\n",
        "from keras.models import model_from_json"
      ],
      "execution_count": null,
      "outputs": []
    },
    {
      "cell_type": "code",
      "metadata": {
        "id": "57gvtsIajwqW"
      },
      "source": [
        "# dataset 1\n",
        "path_dir_data_1 = \"drive/MyDrive/HalfOf_DataSet_CS114\"\n",
        "path_dir_data_test_1 = f\"{path_dir_data_1}/test\"\n",
        "\n",
        "# dataset 2\n",
        "path_dir_data_2 = \"drive/MyDrive/DataSet_CS114\"\n",
        "path_dir_data_test_2 = f\"{path_dir_data_2}/test\"\n",
        "\n",
        "# models\n",
        "path_dir_model = \"drive/MyDrive/models\"\n",
        "\n",
        "# list of emotions\n",
        "emotions = ['angry', 'fear', 'happy', 'neutral', 'sad', 'surprise']"
      ],
      "execution_count": null,
      "outputs": []
    },
    {
      "cell_type": "code",
      "metadata": {
        "colab": {
          "base_uri": "https://localhost:8080/"
        },
        "id": "pzYaPe6vjcRX",
        "outputId": "bc652bec-8ea3-4cf8-a32c-1f6e1b356146"
      },
      "source": [
        "for i in range(1, 12):\n",
        "  print(f\"model_{i}\")\n",
        "\n",
        "  total_img = 0\n",
        "  total_correct_pred = 0\n",
        "\n",
        "  #load model  \n",
        "  model = model_from_json(open(f\"{path_dir_model}/model_{i}/model.json\", \"r\").read())  \n",
        "  #load weights\n",
        "  model.load_weights(f\"{path_dir_model}/model_{i}/model_weights.h5\")\n",
        "\n",
        "  path_dir_data_test = path_dir_data_test_1\n",
        "\n",
        "  if i > 6:\n",
        "    path_dir_data_test = path_dir_data_test_2\n",
        "\n",
        "  for expression in os.listdir(path_dir_data_test):\n",
        "    total_expression += 1\n",
        "    print(expression+\"...\")\n",
        "    for img_name in os.listdir(f\"{path_dir_data_test}/{expression}\"):\n",
        "      total_img += 1\n",
        "\n",
        "      test_img = cv2.imread(f\"{path_dir_data_test}/{expression}/{img_name}\")\n",
        "      test_img = test_img * 1.0\n",
        "      pred = tf.expand_dims(test_img, axis=0)\n",
        "\n",
        "      predictions = model.predict(pred) \n",
        "      if expression == emotions[np.argmax(predictions[0])]:\n",
        "        total_correct_pred += 1\n",
        "\n",
        "\n",
        "  print(f\"Accuracy on test images: {total_correct_pred/total_img}\")\n",
        "  print(\"======================================================\\n\")"
      ],
      "execution_count": null,
      "outputs": [
        {
          "output_type": "stream",
          "text": [
            "model_1\n",
            "sad...\n",
            "neutral...\n",
            "happy...\n",
            "angry...\n",
            "fear...\n",
            "surprise...\n",
            "Accuracy on test images: 0.5107843137254902\n",
            "======================================================\n",
            "\n",
            "model_2\n",
            "sad...\n",
            "neutral...\n",
            "happy...\n",
            "angry...\n",
            "fear...\n",
            "surprise...\n",
            "Accuracy on test images: 0.4774509803921569\n",
            "======================================================\n",
            "\n",
            "model_3\n",
            "sad...\n",
            "neutral...\n",
            "happy...\n",
            "angry...\n",
            "fear...\n",
            "surprise...\n",
            "Accuracy on test images: 0.5852941176470589\n",
            "======================================================\n",
            "\n",
            "model_4\n",
            "sad...\n",
            "neutral...\n",
            "happy...\n",
            "angry...\n",
            "fear...\n",
            "surprise...\n",
            "Accuracy on test images: 0.5950980392156863\n",
            "======================================================\n",
            "\n",
            "model_5\n",
            "sad...\n",
            "neutral...\n",
            "happy...\n",
            "angry...\n",
            "fear...\n",
            "surprise...\n",
            "Accuracy on test images: 0.5725490196078431\n",
            "======================================================\n",
            "\n",
            "model_6\n",
            "sad...\n",
            "neutral...\n",
            "happy...\n",
            "angry...\n",
            "fear...\n",
            "surprise...\n",
            "Accuracy on test images: 0.5401960784313725\n",
            "======================================================\n",
            "\n",
            "model_7\n",
            "angry...\n",
            "fear...\n",
            "happy...\n",
            "sad...\n",
            "neutral...\n",
            "surprise...\n",
            "Accuracy on test images: 0.6019607843137255\n",
            "======================================================\n",
            "\n",
            "model_8\n",
            "angry...\n",
            "fear...\n",
            "happy...\n",
            "sad...\n",
            "neutral...\n",
            "surprise...\n",
            "Accuracy on test images: 0.6009803921568627\n",
            "======================================================\n",
            "\n",
            "model_9\n",
            "angry...\n",
            "fear...\n",
            "happy...\n",
            "sad...\n",
            "neutral...\n",
            "surprise...\n",
            "Accuracy on test images: 0.6313725490196078\n",
            "======================================================\n",
            "\n",
            "model_10\n",
            "angry...\n",
            "fear...\n",
            "happy...\n",
            "sad...\n",
            "neutral...\n",
            "surprise...\n",
            "Accuracy on test images: 0.6313725490196078\n",
            "======================================================\n",
            "\n",
            "model_11\n",
            "angry...\n",
            "fear...\n",
            "happy...\n",
            "sad...\n",
            "neutral...\n",
            "surprise...\n",
            "Accuracy on test images: 0.6504901960784314\n",
            "======================================================\n",
            "\n"
          ],
          "name": "stdout"
        }
      ]
    },
    {
      "cell_type": "code",
      "metadata": {
        "id": "lKasfacyXoa_",
        "colab": {
          "base_uri": "https://localhost:8080/"
        },
        "outputId": "351b6a44-a4b1-4665-8cd4-8feb1a82cfb6"
      },
      "source": [
        "for i in range(1, 30):\n",
        "  # load photo\n",
        "  test_img = cv2.imread(f\"drive/MyDrive/DataSet_CS114_One/test/angry/angry_test_{i}.jpg\")\n",
        "\n",
        "  test_img = test_img * 1.0\n",
        "  pred = tf.expand_dims(test_img, axis=0)\n",
        "\n",
        "  predictions = model.predict(pred)\n",
        "  print(np.argmax(predictions[0]))\n",
        "  print(predictions)"
      ],
      "execution_count": null,
      "outputs": [
        {
          "output_type": "stream",
          "text": [
            "4\n",
            "[[5.7383053e-02 3.5863337e-03 2.9833431e-04 1.8974148e-01 7.4893856e-01\n",
            "  5.2224630e-05]]\n",
            "0\n",
            "[[7.58981764e-01 7.82591775e-02 5.30412793e-03 9.87901259e-03\n",
            "  1.47462323e-01 1.13579394e-04]]\n",
            "0\n",
            "[[0.72818315 0.02816666 0.16764288 0.02895978 0.04239624 0.00465126]]\n",
            "0\n",
            "[[9.7926122e-01 9.2740143e-03 7.8409020e-04 5.7044538e-04 2.6095791e-03\n",
            "  7.5006266e-03]]\n",
            "0\n",
            "[[8.2194281e-01 1.2780190e-01 2.7466540e-05 6.4902278e-10 3.3524273e-08\n",
            "  5.0227873e-02]]\n",
            "0\n",
            "[[9.9625885e-01 7.3565869e-04 7.1783288e-04 2.2285087e-05 9.1935019e-04\n",
            "  1.3460125e-03]]\n",
            "0\n",
            "[[0.61129296 0.00067158 0.02724852 0.09628297 0.26370898 0.00079496]]\n",
            "0\n",
            "[[9.9759609e-01 1.6706277e-03 6.5145206e-05 4.0765756e-04 2.2550787e-04\n",
            "  3.4994671e-05]]\n",
            "0\n",
            "[[9.9086970e-01 3.4302715e-03 1.3461022e-03 5.5376743e-04 2.7336515e-03\n",
            "  1.0664553e-03]]\n",
            "0\n",
            "[[0.84635484 0.06029527 0.02944345 0.00413861 0.05874036 0.00102748]]\n",
            "0\n",
            "[[0.37352836 0.22046272 0.12781325 0.13640304 0.13036801 0.01142466]]\n",
            "0\n",
            "[[9.9812359e-01 9.2686241e-04 8.1243803e-07 9.3667688e-07 9.3999424e-04\n",
            "  7.7407658e-06]]\n",
            "0\n",
            "[[8.4901828e-01 2.6573994e-06 2.0677784e-05 1.2640043e-01 2.4552999e-02\n",
            "  4.9634918e-06]]\n",
            "0\n",
            "[[9.5101678e-01 8.3385012e-06 2.8166230e-07 6.5101638e-05 4.8904616e-02\n",
            "  4.8182424e-06]]\n",
            "0\n",
            "[[9.5677650e-01 4.1810281e-08 1.0994834e-09 5.5902428e-03 3.7632689e-02\n",
            "  5.3921320e-07]]\n",
            "0\n",
            "[[0.82243615 0.0705931  0.0449669  0.00505473 0.04607049 0.01087855]]\n",
            "0\n",
            "[[9.9136204e-01 1.0593670e-04 1.7691401e-04 1.9223918e-04 7.7874139e-03\n",
            "  3.7540970e-04]]\n",
            "0\n",
            "[[0.7417606  0.00519452 0.02181162 0.08812917 0.09279279 0.05031133]]\n",
            "0\n",
            "[[0.8186922  0.07094274 0.0407575  0.00846375 0.01338572 0.04775797]]\n",
            "4\n",
            "[[0.14559054 0.02157737 0.01181892 0.248614   0.56080943 0.01158974]]\n",
            "0\n",
            "[[9.9329901e-01 1.0710459e-04 5.9220600e-03 2.4546639e-04 3.9227089e-04\n",
            "  3.4031909e-05]]\n",
            "0\n",
            "[[7.3327053e-01 2.2291076e-01 1.0318798e-03 9.8406374e-03 3.2367151e-02\n",
            "  5.7900243e-04]]\n",
            "0\n",
            "[[9.9906546e-01 9.5167743e-06 4.2640058e-06 3.7736041e-04 5.0772639e-04\n",
            "  3.5782527e-05]]\n",
            "3\n",
            "[[3.1399049e-02 2.8749253e-03 4.2450973e-03 9.2484158e-01 3.6011212e-02\n",
            "  6.2822201e-04]]\n",
            "0\n",
            "[[9.8009163e-01 1.9178806e-02 6.6097840e-05 1.3646637e-06 1.3114080e-05\n",
            "  6.4907578e-04]]\n",
            "0\n",
            "[[0.36639327 0.24064988 0.28579304 0.00975373 0.02816351 0.06924666]]\n",
            "0\n",
            "[[0.8718543  0.020095   0.05530966 0.02786564 0.02136774 0.00350761]]\n",
            "0\n",
            "[[9.9735731e-01 2.5181957e-03 2.4805320e-06 2.1276888e-08 1.9348521e-05\n",
            "  1.0255095e-04]]\n",
            "0\n",
            "[[9.9904913e-01 5.3980295e-04 1.8533842e-06 5.9877942e-07 3.2985082e-04\n",
            "  7.8559075e-05]]\n"
          ],
          "name": "stdout"
        }
      ]
    }
  ]
}