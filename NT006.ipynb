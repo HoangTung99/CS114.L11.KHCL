{
  "nbformat": 4,
  "nbformat_minor": 0,
  "metadata": {
    "colab": {
      "name": "NT006.ipynb",
      "provenance": [],
      "collapsed_sections": [],
      "authorship_tag": "ABX9TyMJCKzEtNUgGbjV7ZpDhueO",
      "include_colab_link": true
    },
    "kernelspec": {
      "name": "python3",
      "display_name": "Python 3"
    }
  },
  "cells": [
    {
      "cell_type": "markdown",
      "metadata": {
        "id": "view-in-github",
        "colab_type": "text"
      },
      "source": [
        "<a href=\"https://colab.research.google.com/github/HoangTung99/CS114.L11.KHCL/blob/master/NT006.ipynb\" target=\"_parent\"><img src=\"https://colab.research.google.com/assets/colab-badge.svg\" alt=\"Open In Colab\"/></a>"
      ]
    },
    {
      "cell_type": "code",
      "metadata": {
        "id": "boiF8Smw62ES"
      },
      "source": [
        "# Headlines Sarcasm Detection\n",
        "\n",
        "# 1. Mô tả bài toán \n",
        "# Input:\n",
        "# \t 1 headlines từ 1 bài báo\n",
        "\n",
        "# Output:\n",
        "# \t 1(Tiêu đề có châm biến) hoặc 0(Tiêu đều không châm biến)\n",
        "\n",
        "# 2. Mô tả bộ dữ liệu \n",
        "# - Tự xây dựng bộ dữ liệu\n",
        "# - Nguồn lấy dữ liệu: \n",
        "# \tHeadlines từ những bảng tin châm biến (The spoof, clickhole, the daily currant, the New Yorker, The Onion, ...). Kích thước: 500\n",
        "\n",
        "# \t- Headlines từ những bảng tin không châm biến ( BBC, CNN, USA Today, Wall Street Journal, New York Times, Los Angeles Times, HuffPost, ...). Kích thước 500\n",
        "\n",
        "# - Phân chia dữ liệu: train là 60%, dev là 20%, test là 20%\n",
        "\n",
        "# 3. Mô tả đặc trưng",
        "# Feature: Headline, is_sarcastic\n",
        "\n"
      ],
      "execution_count": null,
      "outputs": []
    }
  ]
}
