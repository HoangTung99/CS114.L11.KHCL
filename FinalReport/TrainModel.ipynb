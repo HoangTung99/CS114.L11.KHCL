{
  "nbformat": 4,
  "nbformat_minor": 0,
  "metadata": {
    "colab": {
      "name": "TrainModel.ipynb",
      "provenance": [],
      "collapsed_sections": [],
      "include_colab_link": true
    },
    "kernelspec": {
      "display_name": "Python 3",
      "name": "python3"
    }
  },
  "cells": [
    {
      "cell_type": "markdown",
      "metadata": {
        "id": "view-in-github",
        "colab_type": "text"
      },
      "source": [
        "<a href=\"https://colab.research.google.com/github/HoangTung99/CS114.L11.KHCL/blob/master/FinalReport/TrainModel.ipynb\" target=\"_parent\"><img src=\"https://colab.research.google.com/assets/colab-badge.svg\" alt=\"Open In Colab\"/></a>"
      ]
    },
    {
      "cell_type": "markdown",
      "metadata": {
        "id": "L3WthJql0BQ8"
      },
      "source": [
        "**Bài toán: Nhận diện cảm xúc qua gương mặt người**"
      ]
    },
    {
      "cell_type": "markdown",
      "metadata": {
        "id": "0x6g2Lu6j6Pm"
      },
      "source": [
        "**1. Mô tả bài toán**"
      ]
    },
    {
      "cell_type": "markdown",
      "metadata": {
        "id": "E0vl-3-tWpdr"
      },
      "source": [
        "Input: Một bức ảnh kích thước 48x48, đã gray scale, có chứa đúng 1 gương mặt người thật, gương mặt người phải có cảm xúc là 1 trong 6 loại sau (angry, fear, happy, sad, neutral, surprise)"
      ]
    },
    {
      "cell_type": "markdown",
      "metadata": {
        "id": "ru8OupomJDqO"
      },
      "source": [
        "![sad_train_45.jpg](data:image/jpeg;base64,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)"
      ]
    },
    {
      "cell_type": "markdown",
      "metadata": {
        "id": "t-23mb2wW07u"
      },
      "source": [
        "Ouput: Tên của 1 trong 6 loại cảm xúc (angry, fear, happy, sad, neutral, surprise)"
      ]
    },
    {
      "cell_type": "markdown",
      "metadata": {
        "id": "Hh4BUioyI9k8"
      },
      "source": [
        "Ví dụ: sad"
      ]
    },
    {
      "cell_type": "markdown",
      "metadata": {
        "id": "yAUUZxx-lYph"
      },
      "source": [
        "**2. Mô tả bộ dữ liệu**"
      ]
    },
    {
      "cell_type": "markdown",
      "metadata": {
        "id": "lU7PwKLOXkMf"
      },
      "source": [
        "**Nguồn**: Coursera\n",
        "**Cấu trúc thư mục dataset từ coursera:**\n",
        "- Gồm 2 thư mục chính: train, test.\n",
        "- Mỗi thư mục chính, sẽ bao gồm 6 thư mục con: angry, fear, happy, sad, neutral, surprise. Tên 6 thư mục này tương ứng với tên của 6 loại cảm xúc cần nhận dạng.\n",
        "- Tổng số ảnh lên đến hơn 35 nghìn tấm.\n",
        "\n",
        "\n",
        "\n",
        "Dataset lấy từ coursera sẽ được trích lọc lại thành thư mục dataset có tên DataSet_CS114\n",
        "\n",
        "\n",
        "**Cấu trúc folder DataSet_CS114:**\n",
        "- Gồm 3 thư mục chính: train, validation, test.\n",
        "- Mỗi thư mục chính, sẽ bao gồm 6 thư mục con: angry, fear, happy, sad, neutral, surprise. Tên 6 thư mục này tương ứng với tên của 6 loại cảm xúc cần nhận dạng.\n",
        "- Tổng số ảnh 10224.\n",
        "\n",
        "\n",
        "**Phân chia dữ liệu:**\n",
        "- Train (60%): 1024 tấm ảnh cho từng loại cảm xúc.\n",
        "- Validation (20%): 340 tấm ảnh cho từng loại cảm xúc.\n",
        "- Test (20%): 340 tấm ảnh cho từng loại cảm xúc.\n"
      ]
    },
    {
      "cell_type": "markdown",
      "metadata": {
        "id": "WlGiNe1ImF7i"
      },
      "source": [
        "**3. Mô tả về đặc trưng**"
      ]
    },
    {
      "cell_type": "markdown",
      "metadata": {
        "id": "GZzBqmzmmsH9"
      },
      "source": [
        "**4. Mô tả thuật toán máy học:**"
      ]
    },
    {
      "cell_type": "markdown",
      "metadata": {
        "id": "Fwe8cZLjmyzf"
      },
      "source": [
        "Dùng model Sequential\n",
        "Tác giả của mô hình cnn sử dụng trong bài toán này: Ian J. Goodfellow\n",
        "Mô hình như sau:\n",
        "- 4 khối Convolution ( mỗi khối gồm)\n",
        "  + 1 convolution2D layer để trích xuất đặc trưng\n",
        "  + 1 batchNormalization layer để chuẩn hoá khối batch\n",
        "  + 1 relu layer để khử tuyến tính\n",
        "  + 1 MaxPooling2D để giữ lại đặc trưng quan trọng => giảm độ phức tạp bài toán\n",
        "  + 1 dropout layer để khử bớt dữ liệu => giảm over-fitting\n",
        "- 1 Flattern layer \n",
        "- 2 khối fully connected\n",
        "- 1 Dense Layer với activation function là softmax\n"
      ]
    },
    {
      "cell_type": "markdown",
      "metadata": {
        "id": "eYdC_Y5wOxBI"
      },
      "source": [
        "**5. Cài đặt, tinh chỉnh tham số**"
      ]
    },
    {
      "cell_type": "markdown",
      "metadata": {
        "id": "Frawti3EOxgH"
      },
      "source": [
        "Tiến hành thay đổi các tham số (batch_size, số filter của 4 layer convolution2D, dataset size):"
      ]
    },
    {
      "cell_type": "code",
      "metadata": {
        "colab": {
          "base_uri": "https://localhost:8080/"
        },
        "id": "dZp04JaabHpV",
        "outputId": "65e3a645-d802-44dd-929d-40bb53ff5127"
      },
      "source": [
        "from google.colab import drive\n",
        "drive.mount('/content/drive')"
      ],
      "execution_count": null,
      "outputs": [
        {
          "output_type": "stream",
          "text": [
            "Drive already mounted at /content/drive; to attempt to forcibly remount, call drive.mount(\"/content/drive\", force_remount=True).\n"
          ],
          "name": "stdout"
        }
      ]
    },
    {
      "cell_type": "code",
      "metadata": {
        "id": "OMjiLxDHiERD",
        "colab": {
          "base_uri": "https://localhost:8080/"
        },
        "outputId": "77c02d51-35e9-43d5-f396-542776fbb2e1"
      },
      "source": [
        "!pip install tensorflow-gpu==2.0.rc"
      ],
      "execution_count": null,
      "outputs": [
        {
          "output_type": "stream",
          "text": [
            "Requirement already satisfied: tensorflow-gpu==2.0.rc in /usr/local/lib/python3.6/dist-packages (2.0.0rc0)\n",
            "Requirement already satisfied: keras-applications>=1.0.8 in /usr/local/lib/python3.6/dist-packages (from tensorflow-gpu==2.0.rc) (1.0.8)\n",
            "Requirement already satisfied: six>=1.10.0 in /usr/local/lib/python3.6/dist-packages (from tensorflow-gpu==2.0.rc) (1.15.0)\n",
            "Requirement already satisfied: tf-estimator-nightly<1.14.0.dev2019080602,>=1.14.0.dev2019080601 in /usr/local/lib/python3.6/dist-packages (from tensorflow-gpu==2.0.rc) (1.14.0.dev2019080601)\n",
            "Requirement already satisfied: termcolor>=1.1.0 in /usr/local/lib/python3.6/dist-packages (from tensorflow-gpu==2.0.rc) (1.1.0)\n",
            "Requirement already satisfied: numpy<2.0,>=1.16.0 in /usr/local/lib/python3.6/dist-packages (from tensorflow-gpu==2.0.rc) (1.19.4)\n",
            "Requirement already satisfied: google-pasta>=0.1.6 in /usr/local/lib/python3.6/dist-packages (from tensorflow-gpu==2.0.rc) (0.2.0)\n",
            "Requirement already satisfied: protobuf>=3.6.1 in /usr/local/lib/python3.6/dist-packages (from tensorflow-gpu==2.0.rc) (3.12.4)\n",
            "Requirement already satisfied: absl-py>=0.7.0 in /usr/local/lib/python3.6/dist-packages (from tensorflow-gpu==2.0.rc) (0.10.0)\n",
            "Requirement already satisfied: wrapt>=1.11.1 in /usr/local/lib/python3.6/dist-packages (from tensorflow-gpu==2.0.rc) (1.12.1)\n",
            "Requirement already satisfied: astor>=0.6.0 in /usr/local/lib/python3.6/dist-packages (from tensorflow-gpu==2.0.rc) (0.8.1)\n",
            "Requirement already satisfied: keras-preprocessing>=1.0.5 in /usr/local/lib/python3.6/dist-packages (from tensorflow-gpu==2.0.rc) (1.1.2)\n",
            "Requirement already satisfied: tb-nightly<1.15.0a20190807,>=1.15.0a20190806 in /usr/local/lib/python3.6/dist-packages (from tensorflow-gpu==2.0.rc) (1.15.0a20190806)\n",
            "Requirement already satisfied: grpcio>=1.8.6 in /usr/local/lib/python3.6/dist-packages (from tensorflow-gpu==2.0.rc) (1.32.0)\n",
            "Requirement already satisfied: gast>=0.2.0 in /usr/local/lib/python3.6/dist-packages (from tensorflow-gpu==2.0.rc) (0.3.3)\n",
            "Requirement already satisfied: wheel>=0.26 in /usr/local/lib/python3.6/dist-packages (from tensorflow-gpu==2.0.rc) (0.36.2)\n",
            "Requirement already satisfied: opt-einsum>=2.3.2 in /usr/local/lib/python3.6/dist-packages (from tensorflow-gpu==2.0.rc) (3.3.0)\n",
            "Requirement already satisfied: h5py in /usr/local/lib/python3.6/dist-packages (from keras-applications>=1.0.8->tensorflow-gpu==2.0.rc) (2.10.0)\n",
            "Requirement already satisfied: setuptools in /usr/local/lib/python3.6/dist-packages (from protobuf>=3.6.1->tensorflow-gpu==2.0.rc) (51.1.1)\n",
            "Requirement already satisfied: werkzeug>=0.11.15 in /usr/local/lib/python3.6/dist-packages (from tb-nightly<1.15.0a20190807,>=1.15.0a20190806->tensorflow-gpu==2.0.rc) (1.0.1)\n",
            "Requirement already satisfied: markdown>=2.6.8 in /usr/local/lib/python3.6/dist-packages (from tb-nightly<1.15.0a20190807,>=1.15.0a20190806->tensorflow-gpu==2.0.rc) (3.3.3)\n",
            "Requirement already satisfied: importlib-metadata; python_version < \"3.8\" in /usr/local/lib/python3.6/dist-packages (from markdown>=2.6.8->tb-nightly<1.15.0a20190807,>=1.15.0a20190806->tensorflow-gpu==2.0.rc) (3.3.0)\n",
            "Requirement already satisfied: zipp>=0.5 in /usr/local/lib/python3.6/dist-packages (from importlib-metadata; python_version < \"3.8\"->markdown>=2.6.8->tb-nightly<1.15.0a20190807,>=1.15.0a20190806->tensorflow-gpu==2.0.rc) (3.4.0)\n",
            "Requirement already satisfied: typing-extensions>=3.6.4; python_version < \"3.8\" in /usr/local/lib/python3.6/dist-packages (from importlib-metadata; python_version < \"3.8\"->markdown>=2.6.8->tb-nightly<1.15.0a20190807,>=1.15.0a20190806->tensorflow-gpu==2.0.rc) (3.7.4.3)\n"
          ],
          "name": "stdout"
        }
      ]
    },
    {
      "cell_type": "code",
      "metadata": {
        "id": "LaXarHvbiEbn",
        "colab": {
          "base_uri": "https://localhost:8080/"
        },
        "outputId": "520a4a45-a050-416b-8f94-af0da1537667"
      },
      "source": [
        "import tensorflow as tf\n",
        "from tensorflow.keras.models import Sequential\n",
        "from tensorflow.keras.layers import Dense, Input, Dropout,Flatten, Conv2D, BatchNormalization, Activation, MaxPooling2D\n",
        "print(tf.__version__)"
      ],
      "execution_count": null,
      "outputs": [
        {
          "output_type": "stream",
          "text": [
            "2.0.0-rc0\n"
          ],
          "name": "stdout"
        }
      ]
    },
    {
      "cell_type": "code",
      "metadata": {
        "id": "Ygz5IUZkiEj7"
      },
      "source": [
        "path_dir_data = \"drive/MyDrive/DataSet_CS114\"\n",
        "path_dir_data_train = path_dir_data + \"train/\"\n",
        "path_dir_data_validation = path_dir_data + \"validation/\"\n",
        "path_dir_data_test = path_dir_data + \"test/\""
      ],
      "execution_count": null,
      "outputs": []
    },
    {
      "cell_type": "code",
      "metadata": {
        "id": "BDjwE4lmigWE"
      },
      "source": [
        "import os"
      ],
      "execution_count": null,
      "outputs": []
    },
    {
      "cell_type": "code",
      "metadata": {
        "id": "u9cSkZRUiErq",
        "colab": {
          "base_uri": "https://localhost:8080/"
        },
        "outputId": "dbca9787-69f9-46d7-bcaa-67cdd1490a54"
      },
      "source": [
        "total_train = 0\n",
        "for expression in os.listdir(path_dir_data_train):\n",
        "    total_train_of_an_emotion = len(os.listdir(path_dir_data_train + expression))\n",
        "    print(str(str(total_train_of_an_emotion) + \" \" + expression + \" images\"))\n",
        "    total_train += total_train_of_an_emotion\n",
        "print(total_train)"
      ],
      "execution_count": null,
      "outputs": [
        {
          "output_type": "stream",
          "text": [
            "512 surprise images\n",
            "512 happy images\n",
            "512 fear images\n",
            "512 sad images\n",
            "512 angry images\n",
            "512 neutral images\n",
            "3072\n"
          ],
          "name": "stdout"
        }
      ]
    },
    {
      "cell_type": "code",
      "metadata": {
        "id": "OVvEkGrnqmnT"
      },
      "source": [
        "numberOfEmotions = 6\n",
        "img_size = 48"
      ],
      "execution_count": null,
      "outputs": []
    },
    {
      "cell_type": "code",
      "metadata": {
        "id": "CgA-ufNgiEyq"
      },
      "source": [
        "# Change params\n",
        "batch_size = 16\n",
        "epochs = 100\n",
        "\n",
        "# filters of Conv2D\n",
        "filter_1 = 16\n",
        "filter_2 = 16\n",
        "filter_3 = 32\n",
        "filter_4 = 32"
      ],
      "execution_count": null,
      "outputs": []
    },
    {
      "cell_type": "code",
      "metadata": {
        "id": "gkbDcAi-qrT3"
      },
      "source": [
        "from tensorflow.keras.preprocessing.image import ImageDataGenerator"
      ],
      "execution_count": null,
      "outputs": []
    },
    {
      "cell_type": "code",
      "metadata": {
        "colab": {
          "base_uri": "https://localhost:8080/"
        },
        "id": "bUVz9dp-qj4Q",
        "outputId": "1e79c37b-d817-4798-ff6e-aa2906847cf2"
      },
      "source": [
        "aug = ImageDataGenerator(zoom_range = 0.3,\n",
        "                        rotation_range=20,\n",
        "                        width_shift_range=0.2,\n",
        "                        height_shift_range=0.2,\n",
        "                        horizontal_flip=True)\n",
        "\n",
        "train_data = aug.flow_from_directory(path_dir_data_train,\n",
        "                                     target_size=(img_size,img_size),\n",
        "                                     batch_size=batch_size,\n",
        "                                     shuffle=True)\n",
        "valid_data = aug.flow_from_directory(path_dir_data_validation,target_size=(img_size,img_size),shuffle=True)\n",
        "\n",
        "test_data = aug.flow_from_directory(path_dir_data_test,target_size=(img_size,img_size))"
      ],
      "execution_count": null,
      "outputs": [
        {
          "output_type": "stream",
          "text": [
            "Found 3072 images belonging to 6 classes.\n",
            "Found 1020 images belonging to 6 classes.\n",
            "Found 1020 images belonging to 6 classes.\n"
          ],
          "name": "stdout"
        }
      ]
    },
    {
      "cell_type": "code",
      "metadata": {
        "id": "AW25xF2piE5l",
        "colab": {
          "base_uri": "https://localhost:8080/"
        },
        "outputId": "d27e7bba-2dd8-4e07-bf25-0d37bfe7edb9"
      },
      "source": [
        "# Source: Student Vo Tien Dung from Ho Chi Minh City University of Science\n",
        "model = Sequential([# First Conv2D\n",
        "                    Conv2D(filter_1,(3,3), padding='same',activation='relu',input_shape=(48,48,3)),\n",
        "                    BatchNormalization(),\n",
        "                    # Second Conv2D\n",
        "                    Conv2D(filter_2,(3,3), padding='same',activation='relu'),\n",
        "                    BatchNormalization(),\n",
        "                    MaxPooling2D((2,2)),\n",
        "                    # Third Conv2D\n",
        "                    Conv2D(filter_3,(3,3),activation='relu',padding='same'),\n",
        "                    BatchNormalization(),\n",
        "                    # Fourth Conv2D\n",
        "                    Conv2D(filter_4,(3,3),activation='relu',padding='same'),\n",
        "                    BatchNormalization(),\n",
        "                    MaxPooling2D((2,2)),\n",
        "                    Flatten(),\n",
        "                    Dense(512,activation='relu'),\n",
        "                    BatchNormalization(),\n",
        "                    Dense(numberOfEmotions,activation='softmax') ])\n",
        "model.compile(optimizer='adam', loss='categorical_crossentropy', metrics=['accuracy'])\n",
        "model.summary() "
      ],
      "execution_count": null,
      "outputs": [
        {
          "output_type": "stream",
          "text": [
            "Model: \"sequential\"\n",
            "_________________________________________________________________\n",
            "Layer (type)                 Output Shape              Param #   \n",
            "=================================================================\n",
            "conv2d (Conv2D)              (None, 48, 48, 16)        448       \n",
            "_________________________________________________________________\n",
            "batch_normalization (BatchNo (None, 48, 48, 16)        64        \n",
            "_________________________________________________________________\n",
            "conv2d_1 (Conv2D)            (None, 48, 48, 16)        2320      \n",
            "_________________________________________________________________\n",
            "batch_normalization_1 (Batch (None, 48, 48, 16)        64        \n",
            "_________________________________________________________________\n",
            "max_pooling2d (MaxPooling2D) (None, 24, 24, 16)        0         \n",
            "_________________________________________________________________\n",
            "conv2d_2 (Conv2D)            (None, 24, 24, 32)        4640      \n",
            "_________________________________________________________________\n",
            "batch_normalization_2 (Batch (None, 24, 24, 32)        128       \n",
            "_________________________________________________________________\n",
            "conv2d_3 (Conv2D)            (None, 24, 24, 32)        9248      \n",
            "_________________________________________________________________\n",
            "batch_normalization_3 (Batch (None, 24, 24, 32)        128       \n",
            "_________________________________________________________________\n",
            "max_pooling2d_1 (MaxPooling2 (None, 12, 12, 32)        0         \n",
            "_________________________________________________________________\n",
            "flatten (Flatten)            (None, 4608)              0         \n",
            "_________________________________________________________________\n",
            "dense (Dense)                (None, 512)               2359808   \n",
            "_________________________________________________________________\n",
            "batch_normalization_4 (Batch (None, 512)               2048      \n",
            "_________________________________________________________________\n",
            "dense_1 (Dense)              (None, 6)                 3078      \n",
            "=================================================================\n",
            "Total params: 2,381,974\n",
            "Trainable params: 2,380,758\n",
            "Non-trainable params: 1,216\n",
            "_________________________________________________________________\n"
          ],
          "name": "stdout"
        }
      ]
    },
    {
      "cell_type": "code",
      "metadata": {
        "id": "BcFozSKXiE-p"
      },
      "source": [
        "from tensorflow.keras.callbacks import ModelCheckpoint, ReduceLROnPlateau\n",
        "from tensorflow.keras.utils import plot_model"
      ],
      "execution_count": null,
      "outputs": []
    },
    {
      "cell_type": "code",
      "metadata": {
        "id": "BLquzZ5yiFEV",
        "colab": {
          "base_uri": "https://localhost:8080/"
        },
        "outputId": "64f7611b-e082-4093-de23-27cb1a4d9e17"
      },
      "source": [
        "steps_per_epoch = total_train//batch_size\n",
        "\n",
        "history = model.fit_generator(train_data,steps_per_epoch=steps_per_epoch,epochs=epochs,validation_data=valid_data)"
      ],
      "execution_count": null,
      "outputs": [
        {
          "output_type": "stream",
          "text": [
            "Epoch 1/100\n",
            "WARNING:tensorflow:From /usr/local/lib/python3.6/dist-packages/tensorflow_core/python/ops/math_grad.py:1394: where (from tensorflow.python.ops.array_ops) is deprecated and will be removed in a future version.\n",
            "Instructions for updating:\n",
            "Use tf.where in 2.0, which has the same broadcast rule as np.where\n",
            "192/192 [==============================] - 986s 5s/step - loss: 2.2507 - accuracy: 0.2113 - val_loss: 2.0652 - val_accuracy: 0.1863\n",
            "Epoch 2/100\n",
            "192/192 [==============================] - 49s 253ms/step - loss: 1.8823 - accuracy: 0.2243 - val_loss: 2.4269 - val_accuracy: 0.1716\n",
            "Epoch 3/100\n",
            "192/192 [==============================] - 49s 254ms/step - loss: 1.8384 - accuracy: 0.2201 - val_loss: 1.8007 - val_accuracy: 0.2647\n",
            "Epoch 4/100\n",
            "192/192 [==============================] - 51s 267ms/step - loss: 1.8016 - accuracy: 0.2393 - val_loss: 2.0442 - val_accuracy: 0.2275\n",
            "Epoch 5/100\n",
            "192/192 [==============================] - 49s 257ms/step - loss: 1.7753 - accuracy: 0.2454 - val_loss: 1.8312 - val_accuracy: 0.2265\n",
            "Epoch 6/100\n",
            "192/192 [==============================] - 49s 257ms/step - loss: 1.7484 - accuracy: 0.2653 - val_loss: 1.8728 - val_accuracy: 0.2559\n",
            "Epoch 7/100\n",
            "192/192 [==============================] - 49s 256ms/step - loss: 1.7544 - accuracy: 0.2643 - val_loss: 3.0592 - val_accuracy: 0.2029\n",
            "Epoch 8/100\n",
            "192/192 [==============================] - 49s 256ms/step - loss: 1.7842 - accuracy: 0.2542 - val_loss: 1.9122 - val_accuracy: 0.1686\n",
            "Epoch 9/100\n",
            "192/192 [==============================] - 49s 254ms/step - loss: 1.7638 - accuracy: 0.2575 - val_loss: 1.7917 - val_accuracy: 0.2578\n",
            "Epoch 10/100\n",
            "192/192 [==============================] - 49s 255ms/step - loss: 1.7333 - accuracy: 0.2829 - val_loss: 3.9604 - val_accuracy: 0.2225\n",
            "Epoch 11/100\n",
            "192/192 [==============================] - 49s 256ms/step - loss: 1.8141 - accuracy: 0.2493 - val_loss: 1.9335 - val_accuracy: 0.1971\n",
            "Epoch 12/100\n",
            "192/192 [==============================] - 49s 256ms/step - loss: 1.7502 - accuracy: 0.2614 - val_loss: 1.7706 - val_accuracy: 0.2735\n",
            "Epoch 13/100\n",
            "192/192 [==============================] - 49s 256ms/step - loss: 1.7126 - accuracy: 0.2848 - val_loss: 1.7991 - val_accuracy: 0.3000\n",
            "Epoch 14/100\n",
            "192/192 [==============================] - 49s 255ms/step - loss: 1.7193 - accuracy: 0.2900 - val_loss: 1.8047 - val_accuracy: 0.2490\n",
            "Epoch 15/100\n",
            "192/192 [==============================] - 49s 253ms/step - loss: 1.7002 - accuracy: 0.2910 - val_loss: 1.6946 - val_accuracy: 0.3039\n",
            "Epoch 16/100\n",
            "192/192 [==============================] - 51s 267ms/step - loss: 1.6812 - accuracy: 0.3096 - val_loss: 1.8044 - val_accuracy: 0.2647\n",
            "Epoch 17/100\n",
            "192/192 [==============================] - 50s 260ms/step - loss: 1.6871 - accuracy: 0.3060 - val_loss: 1.8023 - val_accuracy: 0.2608\n",
            "Epoch 18/100\n",
            "192/192 [==============================] - 50s 260ms/step - loss: 1.6916 - accuracy: 0.2959 - val_loss: 2.0040 - val_accuracy: 0.1990\n",
            "Epoch 19/100\n",
            "192/192 [==============================] - 49s 256ms/step - loss: 1.6644 - accuracy: 0.3099 - val_loss: 1.7834 - val_accuracy: 0.2912\n",
            "Epoch 20/100\n",
            "192/192 [==============================] - 49s 254ms/step - loss: 1.6491 - accuracy: 0.3148 - val_loss: 1.7053 - val_accuracy: 0.3029\n",
            "Epoch 21/100\n",
            "192/192 [==============================] - 49s 254ms/step - loss: 1.6386 - accuracy: 0.3333 - val_loss: 1.7497 - val_accuracy: 0.2745\n",
            "Epoch 22/100\n",
            "192/192 [==============================] - 49s 255ms/step - loss: 1.6268 - accuracy: 0.3174 - val_loss: 1.6051 - val_accuracy: 0.3324\n",
            "Epoch 23/100\n",
            "192/192 [==============================] - 49s 256ms/step - loss: 1.6180 - accuracy: 0.3408 - val_loss: 1.8229 - val_accuracy: 0.2539\n",
            "Epoch 24/100\n",
            "192/192 [==============================] - 49s 258ms/step - loss: 1.6185 - accuracy: 0.3376 - val_loss: 1.7299 - val_accuracy: 0.3020\n",
            "Epoch 25/100\n",
            "192/192 [==============================] - 49s 256ms/step - loss: 1.5731 - accuracy: 0.3490 - val_loss: 1.5670 - val_accuracy: 0.3569\n",
            "Epoch 26/100\n",
            "192/192 [==============================] - 49s 257ms/step - loss: 1.5744 - accuracy: 0.3519 - val_loss: 1.6477 - val_accuracy: 0.3373\n",
            "Epoch 27/100\n",
            "192/192 [==============================] - 49s 255ms/step - loss: 1.5706 - accuracy: 0.3509 - val_loss: 1.5514 - val_accuracy: 0.3853\n",
            "Epoch 28/100\n",
            "192/192 [==============================] - 51s 264ms/step - loss: 1.5709 - accuracy: 0.3659 - val_loss: 1.6984 - val_accuracy: 0.3010\n",
            "Epoch 29/100\n",
            "192/192 [==============================] - 50s 259ms/step - loss: 1.5568 - accuracy: 0.3535 - val_loss: 1.6532 - val_accuracy: 0.3235\n",
            "Epoch 30/100\n",
            "192/192 [==============================] - 49s 254ms/step - loss: 1.5682 - accuracy: 0.3626 - val_loss: 1.6751 - val_accuracy: 0.3196\n",
            "Epoch 31/100\n",
            "192/192 [==============================] - 50s 258ms/step - loss: 1.5672 - accuracy: 0.3577 - val_loss: 1.8943 - val_accuracy: 0.2549\n",
            "Epoch 32/100\n",
            "192/192 [==============================] - 49s 253ms/step - loss: 1.5539 - accuracy: 0.3555 - val_loss: 1.6558 - val_accuracy: 0.3098\n",
            "Epoch 33/100\n",
            "192/192 [==============================] - 49s 255ms/step - loss: 1.5428 - accuracy: 0.3717 - val_loss: 1.6552 - val_accuracy: 0.3588\n",
            "Epoch 34/100\n",
            "192/192 [==============================] - 48s 252ms/step - loss: 1.5305 - accuracy: 0.3743 - val_loss: 1.5862 - val_accuracy: 0.3618\n",
            "Epoch 35/100\n",
            "192/192 [==============================] - 49s 254ms/step - loss: 1.5718 - accuracy: 0.3584 - val_loss: 1.8193 - val_accuracy: 0.2578\n",
            "Epoch 36/100\n",
            "192/192 [==============================] - 49s 254ms/step - loss: 1.5303 - accuracy: 0.3796 - val_loss: 1.5658 - val_accuracy: 0.3716\n",
            "Epoch 37/100\n",
            "192/192 [==============================] - 49s 255ms/step - loss: 1.5190 - accuracy: 0.3952 - val_loss: 1.5585 - val_accuracy: 0.3941\n",
            "Epoch 38/100\n",
            "192/192 [==============================] - 49s 253ms/step - loss: 1.4924 - accuracy: 0.3958 - val_loss: 1.5333 - val_accuracy: 0.3706\n",
            "Epoch 39/100\n",
            "192/192 [==============================] - 48s 253ms/step - loss: 1.5055 - accuracy: 0.3805 - val_loss: 1.6433 - val_accuracy: 0.3471\n",
            "Epoch 40/100\n",
            "192/192 [==============================] - 49s 254ms/step - loss: 1.4784 - accuracy: 0.4010 - val_loss: 1.6670 - val_accuracy: 0.3216\n",
            "Epoch 41/100\n",
            "192/192 [==============================] - 51s 267ms/step - loss: 1.4774 - accuracy: 0.4111 - val_loss: 1.5655 - val_accuracy: 0.3608\n",
            "Epoch 42/100\n",
            "192/192 [==============================] - 48s 252ms/step - loss: 1.4803 - accuracy: 0.4056 - val_loss: 1.5554 - val_accuracy: 0.3559\n",
            "Epoch 43/100\n",
            "192/192 [==============================] - 49s 253ms/step - loss: 1.4823 - accuracy: 0.4017 - val_loss: 1.5803 - val_accuracy: 0.3725\n",
            "Epoch 44/100\n",
            "192/192 [==============================] - 49s 255ms/step - loss: 1.4668 - accuracy: 0.3945 - val_loss: 1.4487 - val_accuracy: 0.4186\n",
            "Epoch 45/100\n",
            "192/192 [==============================] - 49s 253ms/step - loss: 1.4394 - accuracy: 0.4238 - val_loss: 1.8521 - val_accuracy: 0.2569\n",
            "Epoch 46/100\n",
            "192/192 [==============================] - 49s 253ms/step - loss: 1.4443 - accuracy: 0.4157 - val_loss: 1.5921 - val_accuracy: 0.3471\n",
            "Epoch 47/100\n",
            "192/192 [==============================] - 48s 251ms/step - loss: 1.4224 - accuracy: 0.4375 - val_loss: 1.8909 - val_accuracy: 0.3961\n",
            "Epoch 48/100\n",
            "192/192 [==============================] - 49s 254ms/step - loss: 1.4407 - accuracy: 0.4248 - val_loss: 1.4842 - val_accuracy: 0.4275\n",
            "Epoch 49/100\n",
            "192/192 [==============================] - 49s 256ms/step - loss: 1.4128 - accuracy: 0.4378 - val_loss: 1.9127 - val_accuracy: 0.3716\n",
            "Epoch 50/100\n",
            "192/192 [==============================] - 49s 256ms/step - loss: 1.4333 - accuracy: 0.4212 - val_loss: 1.6020 - val_accuracy: 0.3431\n",
            "Epoch 51/100\n",
            "192/192 [==============================] - 49s 256ms/step - loss: 1.4196 - accuracy: 0.4225 - val_loss: 1.5002 - val_accuracy: 0.4294\n",
            "Epoch 52/100\n",
            "192/192 [==============================] - 49s 254ms/step - loss: 1.4278 - accuracy: 0.4281 - val_loss: 1.5860 - val_accuracy: 0.3784\n",
            "Epoch 53/100\n",
            "192/192 [==============================] - 50s 263ms/step - loss: 1.4049 - accuracy: 0.4333 - val_loss: 1.4924 - val_accuracy: 0.3784\n",
            "Epoch 54/100\n",
            "192/192 [==============================] - 48s 252ms/step - loss: 1.4205 - accuracy: 0.4313 - val_loss: 1.5626 - val_accuracy: 0.3873\n",
            "Epoch 55/100\n",
            "192/192 [==============================] - 49s 254ms/step - loss: 1.4221 - accuracy: 0.4242 - val_loss: 1.4685 - val_accuracy: 0.4402\n",
            "Epoch 56/100\n",
            "192/192 [==============================] - 49s 255ms/step - loss: 1.4242 - accuracy: 0.4229 - val_loss: 1.5840 - val_accuracy: 0.3441\n",
            "Epoch 57/100\n",
            "192/192 [==============================] - 50s 258ms/step - loss: 1.3967 - accuracy: 0.4411 - val_loss: 1.6259 - val_accuracy: 0.3637\n",
            "Epoch 58/100\n",
            "192/192 [==============================] - 49s 254ms/step - loss: 1.4169 - accuracy: 0.4232 - val_loss: 1.6863 - val_accuracy: 0.3745\n",
            "Epoch 59/100\n",
            "192/192 [==============================] - 49s 254ms/step - loss: 1.3889 - accuracy: 0.4561 - val_loss: 1.5842 - val_accuracy: 0.3618\n",
            "Epoch 60/100\n",
            "192/192 [==============================] - 49s 255ms/step - loss: 1.4116 - accuracy: 0.4323 - val_loss: 1.4484 - val_accuracy: 0.4196\n",
            "Epoch 61/100\n",
            "192/192 [==============================] - 48s 252ms/step - loss: 1.3876 - accuracy: 0.4401 - val_loss: 1.7256 - val_accuracy: 0.4088\n",
            "Epoch 62/100\n",
            "192/192 [==============================] - 48s 252ms/step - loss: 1.4060 - accuracy: 0.4248 - val_loss: 1.6082 - val_accuracy: 0.3863\n",
            "Epoch 63/100\n",
            "192/192 [==============================] - 49s 254ms/step - loss: 1.4094 - accuracy: 0.4404 - val_loss: 1.5120 - val_accuracy: 0.4324\n",
            "Epoch 64/100\n",
            "192/192 [==============================] - 49s 254ms/step - loss: 1.4134 - accuracy: 0.4307 - val_loss: 1.4102 - val_accuracy: 0.4500\n",
            "Epoch 65/100\n",
            "192/192 [==============================] - 49s 254ms/step - loss: 1.3556 - accuracy: 0.4691 - val_loss: 1.4337 - val_accuracy: 0.4686\n",
            "Epoch 66/100\n",
            "192/192 [==============================] - 51s 266ms/step - loss: 1.3641 - accuracy: 0.4580 - val_loss: 1.3785 - val_accuracy: 0.4676\n",
            "Epoch 67/100\n",
            "192/192 [==============================] - 49s 255ms/step - loss: 1.3485 - accuracy: 0.4587 - val_loss: 1.4790 - val_accuracy: 0.3922\n",
            "Epoch 68/100\n",
            "192/192 [==============================] - 49s 254ms/step - loss: 1.3618 - accuracy: 0.4603 - val_loss: 1.4390 - val_accuracy: 0.4490\n",
            "Epoch 69/100\n",
            "192/192 [==============================] - 49s 253ms/step - loss: 1.3986 - accuracy: 0.4359 - val_loss: 1.4511 - val_accuracy: 0.4471\n",
            "Epoch 70/100\n",
            "192/192 [==============================] - 49s 256ms/step - loss: 1.3511 - accuracy: 0.4596 - val_loss: 1.5081 - val_accuracy: 0.4578\n",
            "Epoch 71/100\n",
            "192/192 [==============================] - 49s 253ms/step - loss: 1.3472 - accuracy: 0.4609 - val_loss: 1.4428 - val_accuracy: 0.4382\n",
            "Epoch 72/100\n",
            "192/192 [==============================] - 49s 254ms/step - loss: 1.3410 - accuracy: 0.4645 - val_loss: 1.4299 - val_accuracy: 0.4549\n",
            "Epoch 73/100\n",
            "192/192 [==============================] - 49s 254ms/step - loss: 1.3371 - accuracy: 0.4759 - val_loss: 1.4461 - val_accuracy: 0.4245\n",
            "Epoch 74/100\n",
            "192/192 [==============================] - 48s 252ms/step - loss: 1.3552 - accuracy: 0.4580 - val_loss: 1.6423 - val_accuracy: 0.3402\n",
            "Epoch 75/100\n",
            "192/192 [==============================] - 49s 254ms/step - loss: 1.3229 - accuracy: 0.4801 - val_loss: 1.3723 - val_accuracy: 0.4657\n",
            "Epoch 76/100\n",
            "192/192 [==============================] - 49s 257ms/step - loss: 1.3377 - accuracy: 0.4785 - val_loss: 1.4007 - val_accuracy: 0.4637\n",
            "Epoch 77/100\n",
            "192/192 [==============================] - 49s 257ms/step - loss: 1.3141 - accuracy: 0.4906 - val_loss: 1.4023 - val_accuracy: 0.4618\n",
            "Epoch 78/100\n",
            "192/192 [==============================] - 51s 267ms/step - loss: 1.3153 - accuracy: 0.4756 - val_loss: 1.5685 - val_accuracy: 0.3735\n",
            "Epoch 79/100\n",
            "192/192 [==============================] - 50s 260ms/step - loss: 1.3421 - accuracy: 0.4684 - val_loss: 1.4479 - val_accuracy: 0.4471\n",
            "Epoch 80/100\n",
            "192/192 [==============================] - 49s 258ms/step - loss: 1.3391 - accuracy: 0.4645 - val_loss: 1.5037 - val_accuracy: 0.4431\n",
            "Epoch 81/100\n",
            "192/192 [==============================] - 49s 258ms/step - loss: 1.3121 - accuracy: 0.4867 - val_loss: 1.5311 - val_accuracy: 0.3892\n",
            "Epoch 82/100\n",
            "192/192 [==============================] - 50s 258ms/step - loss: 1.3085 - accuracy: 0.4880 - val_loss: 1.4818 - val_accuracy: 0.4255\n",
            "Epoch 83/100\n",
            "192/192 [==============================] - 50s 259ms/step - loss: 1.3241 - accuracy: 0.4818 - val_loss: 1.3904 - val_accuracy: 0.4608\n",
            "Epoch 84/100\n",
            "192/192 [==============================] - 50s 259ms/step - loss: 1.2801 - accuracy: 0.4951 - val_loss: 1.3567 - val_accuracy: 0.4873\n",
            "Epoch 85/100\n",
            "192/192 [==============================] - 50s 261ms/step - loss: 1.2911 - accuracy: 0.4909 - val_loss: 1.3811 - val_accuracy: 0.4647\n",
            "Epoch 86/100\n",
            "192/192 [==============================] - 49s 257ms/step - loss: 1.3101 - accuracy: 0.4883 - val_loss: 1.7124 - val_accuracy: 0.3824\n",
            "Epoch 87/100\n",
            "192/192 [==============================] - 50s 259ms/step - loss: 1.2842 - accuracy: 0.4987 - val_loss: 1.4051 - val_accuracy: 0.4686\n",
            "Epoch 88/100\n",
            "192/192 [==============================] - 50s 259ms/step - loss: 1.2789 - accuracy: 0.4912 - val_loss: 1.4616 - val_accuracy: 0.4343\n",
            "Epoch 89/100\n",
            "192/192 [==============================] - 50s 260ms/step - loss: 1.2936 - accuracy: 0.4889 - val_loss: 1.4211 - val_accuracy: 0.4725\n",
            "Epoch 90/100\n",
            "192/192 [==============================] - 50s 259ms/step - loss: 1.3041 - accuracy: 0.4941 - val_loss: 1.4509 - val_accuracy: 0.4451\n",
            "Epoch 91/100\n",
            "192/192 [==============================] - 52s 273ms/step - loss: 1.3358 - accuracy: 0.4697 - val_loss: 1.7841 - val_accuracy: 0.3108\n",
            "Epoch 92/100\n",
            "192/192 [==============================] - 50s 261ms/step - loss: 1.3123 - accuracy: 0.4840 - val_loss: 1.4610 - val_accuracy: 0.4549\n",
            "Epoch 93/100\n",
            "192/192 [==============================] - 50s 259ms/step - loss: 1.3078 - accuracy: 0.4906 - val_loss: 1.3850 - val_accuracy: 0.4549\n",
            "Epoch 94/100\n",
            "192/192 [==============================] - 49s 257ms/step - loss: 1.2980 - accuracy: 0.4840 - val_loss: 1.4066 - val_accuracy: 0.4696\n",
            "Epoch 95/100\n",
            "192/192 [==============================] - 50s 262ms/step - loss: 1.2911 - accuracy: 0.5020 - val_loss: 1.5153 - val_accuracy: 0.4225\n",
            "Epoch 96/100\n",
            "192/192 [==============================] - 50s 260ms/step - loss: 1.2823 - accuracy: 0.4945 - val_loss: 1.4376 - val_accuracy: 0.4510\n",
            "Epoch 97/100\n",
            "192/192 [==============================] - 49s 257ms/step - loss: 1.2836 - accuracy: 0.4984 - val_loss: 1.7498 - val_accuracy: 0.4333\n",
            "Epoch 98/100\n",
            "192/192 [==============================] - 50s 260ms/step - loss: 1.2610 - accuracy: 0.4993 - val_loss: 1.3819 - val_accuracy: 0.4529\n",
            "Epoch 99/100\n",
            "192/192 [==============================] - 50s 258ms/step - loss: 1.2490 - accuracy: 0.5085 - val_loss: 1.4156 - val_accuracy: 0.4569\n",
            "Epoch 100/100\n",
            "192/192 [==============================] - 50s 260ms/step - loss: 1.2780 - accuracy: 0.5046 - val_loss: 1.3597 - val_accuracy: 0.4755\n"
          ],
          "name": "stdout"
        }
      ]
    },
    {
      "cell_type": "code",
      "metadata": {
        "id": "_HwaX2p_iFJn"
      },
      "source": [
        "model_json = model.to_json()\n",
        "with open(path_dir_data + \"models_ver1/model_11/model.json\", \"w\") as json_file:\n",
        "    json_file.write(model_json)\n",
        "\n",
        "model.save_weights(path_dir_data + \"models_ver1/model_11/model_weights.h5\")"
      ],
      "execution_count": null,
      "outputs": []
    },
    {
      "cell_type": "code",
      "metadata": {
        "id": "KCstG9x2iFO4"
      },
      "source": [
        "import matplotlib.pyplot as plt"
      ],
      "execution_count": null,
      "outputs": []
    },
    {
      "cell_type": "code",
      "metadata": {
        "id": "K2YOhZ_3iFUF",
        "colab": {
          "base_uri": "https://localhost:8080/",
          "height": 265
        },
        "outputId": "69e4f2b0-a6de-4033-b948-b29dc47d5750"
      },
      "source": [
        "plt.plot(history.history[\"accuracy\"])\n",
        "plt.show()"
      ],
      "execution_count": null,
      "outputs": [
        {
          "output_type": "display_data",
          "data": {
            "image/png": "[encoded data removed]",
            "text/plain": [
              "<Figure size 432x288 with 1 Axes>"
            ]
          },
          "metadata": {
            "tags": [],
            "needs_background": "light"
          }
        }
      ]
    }
  ]
}